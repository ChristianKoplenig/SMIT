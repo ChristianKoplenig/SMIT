{
 "cells": [
  {
   "cell_type": "code",
   "execution_count": 1,
   "metadata": {},
   "outputs": [],
   "source": [
    "# Imports for plot\n",
    "# import seaborn as sns\n",
    "# import matplotlib.pyplot as plt\n",
    "# import matplotlib.dates as md\n",
    "# import matplotlib.gridspec as gridspec\n",
    "import matplotlib\n",
    "from matplotlib.figure import Figure\n",
    "# Custom Modules\n",
    "from SMIT.application import Application"
   ]
  },
  {
   "cell_type": "code",
   "execution_count": 2,
   "metadata": {},
   "outputs": [
    {
     "name": "stderr",
     "output_type": "stream",
     "text": [
      "2023-11-06 11:17:56,002 :: DEBUG    :: [userinput:64] :: Class UiTools of the module SMIT.userinput successfully initialized.\n",
      "2023-11-06 11:17:56,003 :: DEBUG    :: [rsahandling:65] :: Class RsaTools of the module SMIT.rsahandling successfully initialized.\n",
      "2023-11-06 11:17:56,003 :: DEBUG    :: [filehandling:200] :: Class TomlTools of the module SMIT.filehandling successfully initialized.\n",
      "2023-11-06 11:17:56,004 :: DEBUG    :: [filehandling:59] :: Class OsInterface of the module SMIT.filehandling successfully initialized.\n",
      "2023-11-06 11:17:56,004 :: DEBUG    :: [filepersistence:45] :: Class Persistence of the module SMIT.filepersistence successfully initialized.\n",
      "2023-11-06 11:17:56,004 :: DEBUG    :: [scrapedata:58] :: Class Webscraper of the module SMIT.scrapedata successfully initialized.\n",
      "2023-11-06 11:17:56,005 :: INFO     :: [application:82] :: Application with user \"ch.koplenig@posteo.net\" instantiated\n",
      "2023-11-06 11:17:56,021 :: DEBUG    :: [filehandling:144] :: Created pandas dataframe for meter: 199996\n",
      "2023-11-06 11:17:56,035 :: DEBUG    :: [filehandling:144] :: Created pandas dataframe for meter: 199997\n"
     ]
    },
    {
     "data": {
      "text/html": [
       "<div>\n",
       "<style scoped>\n",
       "    .dataframe tbody tr th:only-of-type {\n",
       "        vertical-align: middle;\n",
       "    }\n",
       "\n",
       "    .dataframe tbody tr th {\n",
       "        vertical-align: top;\n",
       "    }\n",
       "\n",
       "    .dataframe thead th {\n",
       "        text-align: right;\n",
       "    }\n",
       "</style>\n",
       "<table border=\"1\" class=\"dataframe\">\n",
       "  <thead>\n",
       "    <tr style=\"text-align: right;\">\n",
       "      <th></th>\n",
       "      <th>date</th>\n",
       "      <th>zaehlerstand</th>\n",
       "      <th>verbrauch</th>\n",
       "    </tr>\n",
       "  </thead>\n",
       "  <tbody>\n",
       "    <tr>\n",
       "      <th>595</th>\n",
       "      <td>2023-10-26</td>\n",
       "      <td>3435.904000</td>\n",
       "      <td>3475.000</td>\n",
       "    </tr>\n",
       "    <tr>\n",
       "      <th>596</th>\n",
       "      <td>2023-10-27</td>\n",
       "      <td>3436.626000</td>\n",
       "      <td>722.000</td>\n",
       "    </tr>\n",
       "    <tr>\n",
       "      <th>597</th>\n",
       "      <td>2023-10-28</td>\n",
       "      <td>0.000000</td>\n",
       "      <td>4203.000</td>\n",
       "    </tr>\n",
       "    <tr>\n",
       "      <th>599</th>\n",
       "      <td>2023-10-29</td>\n",
       "      <td>3448.121667</td>\n",
       "      <td>2766.667</td>\n",
       "    </tr>\n",
       "    <tr>\n",
       "      <th>600</th>\n",
       "      <td>2023-10-30</td>\n",
       "      <td>0.000000</td>\n",
       "      <td>0.000</td>\n",
       "    </tr>\n",
       "  </tbody>\n",
       "</table>\n",
       "</div>"
      ],
      "text/plain": [
       "          date  zaehlerstand  verbrauch\n",
       "595 2023-10-26   3435.904000   3475.000\n",
       "596 2023-10-27   3436.626000    722.000\n",
       "597 2023-10-28      0.000000   4203.000\n",
       "599 2023-10-29   3448.121667   2766.667\n",
       "600 2023-10-30      0.000000      0.000"
      ]
     },
     "execution_count": 2,
     "metadata": {},
     "output_type": "execute_result"
    }
   ],
   "source": [
    "app = Application()\n",
    "df_day = app.os_tools.create_dataframe(app.Folder['work_daysum'], app.Meter['day_meter'])\n",
    "df_night = app.os_tools.create_dataframe(app.Folder['work_daysum'], app.Meter['night_meter'])\n",
    "df_day.tail()"
   ]
  },
  {
   "cell_type": "code",
   "execution_count": 4,
   "metadata": {},
   "outputs": [
    {
     "data": {
      "text/plain": [
       "Text(0, 0.5, 'Popularity')"
      ]
     },
     "execution_count": 4,
     "metadata": {},
     "output_type": "execute_result"
    }
   ],
   "source": [
    "figure = Figure(figsize=(9, 3), dpi=100)\n",
    "\n",
    "axes = figure.add_subplot()\n",
    "# create the barchart\n",
    "axes.bar(df_day['date'], df_day['verbrauch'])\n",
    "axes.set_title('Top 5 Programming Languages')\n",
    "axes.set_ylabel('Popularity')"
   ]
  }
 ],
 "metadata": {
  "kernelspec": {
   "display_name": ".venv",
   "language": "python",
   "name": "python3"
  },
  "language_info": {
   "codemirror_mode": {
    "name": "ipython",
    "version": 3
   },
   "file_extension": ".py",
   "mimetype": "text/x-python",
   "name": "python",
   "nbconvert_exporter": "python",
   "pygments_lexer": "ipython3",
   "version": "3.11.6"
  }
 },
 "nbformat": 4,
 "nbformat_minor": 2
}
