{
 "cells": [
  {
   "cell_type": "code",
   "execution_count": null,
   "metadata": {},
   "outputs": [],
   "source": [
    "# Imports for plot\n",
    "# import seaborn as sns\n",
    "# import matplotlib.pyplot as plt\n",
    "# import matplotlib.dates as md\n",
    "# import matplotlib.gridspec as gridspec\n",
    "# import matplotlib\n",
    "# from matplotlib.figure import Figure\n",
    "# Custom Modules\n",
    "from SMIT.application import Application"
   ]
  },
  {
   "cell_type": "code",
   "execution_count": null,
   "metadata": {},
   "outputs": [],
   "source": [
    "app = Application()\n",
    "df_day = app.os_tools.create_dataframe(app.Folder['work_daysum'], app.Meter['day_meter'])\n",
    "df_night = app.os_tools.create_dataframe(app.Folder['work_daysum'], app.Meter['night_meter'])\n",
    "df_day.tail()"
   ]
  },
  {
   "cell_type": "code",
   "execution_count": 1,
   "metadata": {},
   "outputs": [
    {
     "name": "stderr",
     "output_type": "stream",
     "text": [
      "2023-11-07 18:11:29,645 :: DEBUG    :: [userinput:64] :: Class UiTools of the module SMIT.userinput successfully initialized.\n",
      "2023-11-07 18:11:29,645 :: DEBUG    :: [rsahandling:65] :: Class RsaTools of the module SMIT.rsahandling successfully initialized.\n",
      "2023-11-07 18:11:29,646 :: DEBUG    :: [filehandling:217] :: Class TomlTools of the module SMIT.filehandling successfully initialized.\n",
      "2023-11-07 18:11:29,646 :: DEBUG    :: [filehandling:59] :: Class OsInterface of the module SMIT.filehandling successfully initialized.\n",
      "2023-11-07 18:11:29,646 :: DEBUG    :: [filepersistence:45] :: Class Persistence of the module SMIT.filepersistence successfully initialized.\n",
      "2023-11-07 18:11:29,647 :: DEBUG    :: [scrapedata:58] :: Class Webscraper of the module SMIT.scrapedata successfully initialized.\n",
      "2023-11-07 18:11:29,647 :: INFO     :: [application:82] :: Application with user \"ch.koplenig@posteo.net\" instantiated\n",
      "2023-11-07 18:11:29,665 :: DEBUG    :: [filehandling:144] :: Created pandas dataframe for meter: 199996\n"
     ]
    },
    {
     "data": {
      "text/html": [
       "<div>\n",
       "<style scoped>\n",
       "    .dataframe tbody tr th:only-of-type {\n",
       "        vertical-align: middle;\n",
       "    }\n",
       "\n",
       "    .dataframe tbody tr th {\n",
       "        vertical-align: top;\n",
       "    }\n",
       "\n",
       "    .dataframe thead th {\n",
       "        text-align: right;\n",
       "    }\n",
       "</style>\n",
       "<table border=\"1\" class=\"dataframe\">\n",
       "  <thead>\n",
       "    <tr style=\"text-align: right;\">\n",
       "      <th></th>\n",
       "      <th>date</th>\n",
       "      <th>zaehlerstand</th>\n",
       "      <th>verbrauch</th>\n",
       "    </tr>\n",
       "  </thead>\n",
       "  <tbody>\n",
       "    <tr>\n",
       "      <th>571</th>\n",
       "      <td>2023-10-13</td>\n",
       "      <td>3380.449</td>\n",
       "      <td>6645.0</td>\n",
       "    </tr>\n",
       "    <tr>\n",
       "      <th>573</th>\n",
       "      <td>2023-10-14</td>\n",
       "      <td>3389.734</td>\n",
       "      <td>4766.0</td>\n",
       "    </tr>\n",
       "    <tr>\n",
       "      <th>575</th>\n",
       "      <td>2023-10-15</td>\n",
       "      <td>3389.734</td>\n",
       "      <td>4766.0</td>\n",
       "    </tr>\n",
       "    <tr>\n",
       "      <th>577</th>\n",
       "      <td>2023-10-16</td>\n",
       "      <td>3391.331</td>\n",
       "      <td>1597.0</td>\n",
       "    </tr>\n",
       "    <tr>\n",
       "      <th>579</th>\n",
       "      <td>2023-10-17</td>\n",
       "      <td>3399.314</td>\n",
       "      <td>5382.0</td>\n",
       "    </tr>\n",
       "  </tbody>\n",
       "</table>\n",
       "</div>"
      ],
      "text/plain": [
       "          date  zaehlerstand  verbrauch\n",
       "571 2023-10-13      3380.449     6645.0\n",
       "573 2023-10-14      3389.734     4766.0\n",
       "575 2023-10-15      3389.734     4766.0\n",
       "577 2023-10-16      3391.331     1597.0\n",
       "579 2023-10-17      3399.314     5382.0"
      ]
     },
     "execution_count": 1,
     "metadata": {},
     "output_type": "execute_result"
    }
   ],
   "source": [
    "from SMIT.application import Application\n",
    "\n",
    "app = Application()\n",
    "app.os_tools.slice_dataframe('2023-10-13','2023-10-17',app.Folder['work_daysum'], app.Meter['day_meter'])"
   ]
  }
 ],
 "metadata": {
  "kernelspec": {
   "display_name": ".venv",
   "language": "python",
   "name": "python3"
  },
  "language_info": {
   "codemirror_mode": {
    "name": "ipython",
    "version": 3
   },
   "file_extension": ".py",
   "mimetype": "text/x-python",
   "name": "python",
   "nbconvert_exporter": "python",
   "pygments_lexer": "ipython3",
   "version": "3.11.6"
  }
 },
 "nbformat": 4,
 "nbformat_minor": 2
}
