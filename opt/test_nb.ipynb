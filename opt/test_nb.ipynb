{
 "cells": [
  {
   "cell_type": "code",
   "execution_count": 2,
   "metadata": {},
   "outputs": [],
   "source": [
    "import sys\n",
    "import pathlib as pl\n",
    "\n",
    "# Add custom modules path to sys.path and import\n",
    "module_dir = pl.Path(\"__file__\").resolve().parent.parent / 'modules'\n",
    "\n",
    "if not sys.path[0] == str(module_dir):\n",
    "    sys.path.insert(0, str(module_dir))\n",
    "\n",
    "from user import user\n",
    "from scrapedata import webscraper as sc\n",
    "from filepersistence import persistence"
   ]
  },
  {
   "cell_type": "code",
   "execution_count": null,
   "metadata": {},
   "outputs": [],
   "source": [
    "User = user()\n",
    "dates = persistence.create_dates_var()"
   ]
  },
  {
   "cell_type": "code",
   "execution_count": null,
   "metadata": {},
   "outputs": [],
   "source": [
    "sc.stromnetz_setup(User.csv_dl_daysum, False)\n",
    "sc.day_night_selector('night')\n",
    "sc.stromnetz_fillTageswerte(dates['start'], dates['end'])"
   ]
  },
  {
   "cell_type": "markdown",
   "metadata": {},
   "source": [
    "## dates direct input fields \n",
    "\n",
    "/html/body/div/div/div/div[1]/div/div/div[2]/table/tbody/tr[24]/td[1]/span[2]"
   ]
  }
 ],
 "metadata": {
  "kernelspec": {
   "display_name": "base",
   "language": "python",
   "name": "python3"
  },
  "language_info": {
   "codemirror_mode": {
    "name": "ipython",
    "version": 3
   },
   "file_extension": ".py",
   "mimetype": "text/x-python",
   "name": "python",
   "nbconvert_exporter": "python",
   "pygments_lexer": "ipython3",
   "version": "3.9.15"
  },
  "orig_nbformat": 4
 },
 "nbformat": 4,
 "nbformat_minor": 2
}
