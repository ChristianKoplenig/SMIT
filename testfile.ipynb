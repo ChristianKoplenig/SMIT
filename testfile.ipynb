{
 "cells": [
  {
   "cell_type": "code",
   "execution_count": 1,
   "metadata": {},
   "outputs": [],
   "source": [
    "from modules.user import user\n",
    "#from modules.filehandling import osinterface\n",
    "from modules.scrapedata import webscraper"
   ]
  },
  {
   "cell_type": "code",
   "execution_count": 2,
   "metadata": {},
   "outputs": [
    {
     "name": "stdout",
     "output_type": "stream",
     "text": [
      "init\n",
      "pub read\n",
      "priv read\n",
      "before\n",
      "b'6\\xe2\\xa7K\\xc2C\\x17I\\x85\\xc9\\xfd\\tZ\\xed\\x1dw\\xac\\xbc$\\xf14H\\xa2E\\xe5\\xa6\\xbf{\\xca\\xe4\\x03T\\xe4 \\xcf\\x9a\\x0b\\xf2%]\\xd3)\\x12\\xeb}\\x13\\x80\\xee6(\\xb82*\\x1a\\xf1\\xb6w\\x15\\xbcP\\xe4\\xeb\\x01\\x82\\x14]\\x9b\\xb9lH\\xb0hE\\x10D\\xba$%\\xc6<\\xab\\x18\\x9d;<:iG\\xc6\\xf3\\xde\\xa2\\x14\\x9ab\\x8f\\x18\\xbf\\xdcn$\\xa9[\\x0b=\\x81p\\xcb\\xef\\xcb\\x87\\rD9;lNk\\x95O\\xf2B_\\x8f\\xddl\\x88?'\n",
      "init\n",
      "pub read\n",
      "priv read\n",
      "after\n",
      "b'6\\xe2\\xa7K\\xc2C\\x17I\\x85\\xc9\\xfd\\tZ\\xed\\x1dw\\xac\\xbc$\\xf14H\\xa2E\\xe5\\xa6\\xbf{\\xca\\xe4\\x03T\\xe4 \\xcf\\x9a\\x0b\\xf2%]\\xd3)\\x12\\xeb}\\x13\\x80\\xee6(\\xb82*\\x1a\\xf1\\xb6w\\x15\\xbcP\\xe4\\xeb\\x01\\x82\\x14]\\x9b\\xb9lH\\xb0hE\\x10D\\xba$%\\xc6<\\xab\\x18\\x9d;<:iG\\xc6\\xf3\\xde\\xa2\\x14\\x9ab\\x8f\\x18\\xbf\\xdcn$\\xa9[\\x0b=\\x81p\\xcb\\xef\\xcb\\x87\\rD9;lNk\\x95O\\xf2B_\\x8f\\xddl\\x88?'\n"
     ]
    }
   ],
   "source": [
    "User = user()\n",
    "print('before')\n",
    "print(User.password)\n",
    "webscraper(User).stromnetz_setup(User.csv_dl_daysum, False)\n",
    "print('after')\n",
    "print(User.password)"
   ]
  }
 ],
 "metadata": {
  "kernelspec": {
   "display_name": "base",
   "language": "python",
   "name": "python3"
  },
  "language_info": {
   "codemirror_mode": {
    "name": "ipython",
    "version": 3
   },
   "file_extension": ".py",
   "mimetype": "text/x-python",
   "name": "python",
   "nbconvert_exporter": "python",
   "pygments_lexer": "ipython3",
   "version": "3.9.15"
  },
  "orig_nbformat": 4
 },
 "nbformat": 4,
 "nbformat_minor": 2
}
