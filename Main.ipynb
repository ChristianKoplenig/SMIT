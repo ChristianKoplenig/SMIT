{
 "cells": [
  {
   "cell_type": "markdown",
   "metadata": {},
   "source": [
    "# <center> Stromnetz Graz Smart Meter Analysis"
   ]
  },
  {
   "cell_type": "code",
   "execution_count": 1,
   "metadata": {},
   "outputs": [],
   "source": [
    "# Imports for plot\n",
    "import seaborn as sns\n",
    "import matplotlib.pyplot as plt\n",
    "import matplotlib.dates as md\n",
    "import matplotlib.gridspec as gridspec\n",
    "# Custom Modules\n",
    "from SMIT.application import Application"
   ]
  },
  {
   "cell_type": "markdown",
   "metadata": {},
   "source": [
    "## Setup"
   ]
  },
  {
   "cell_type": "markdown",
   "metadata": {},
   "source": [
    "### Run with dummy data"
   ]
  },
  {
   "cell_type": "code",
   "execution_count": null,
   "metadata": {},
   "outputs": [],
   "source": [
    "app = Application(True)                 # Create dummy user from user_data file\n",
    "app.os_tools.sng_scrape_and_move()      # No webscraping, dummy csv file setup\n",
    "\n",
    "# Create dataframes with all data\n",
    "df_day = app.os_tools.create_dataframe(app.Folder['work_daysum'], app.Meter['day_meter'])\n",
    "df_night = app.os_tools.create_dataframe(app.Folder['work_daysum'], app.Meter['night_meter'])\n",
    "\n",
    "# Print last entries of power consumption during the days\n",
    "df_day.tail()"
   ]
  },
  {
   "cell_type": "markdown",
   "metadata": {},
   "source": [
    "### Run with live data\n",
    "An account to Stromnetz Graz is needed  \n",
    "Input dialog will be triggered"
   ]
  },
  {
   "cell_type": "code",
   "execution_count": 3,
   "metadata": {},
   "outputs": [
    {
     "name": "stderr",
     "output_type": "stream",
     "text": [
      "2023-09-05 12:02:44,886 :: DEBUG    :: [userinput:62] :: Class UiTools of the module SMIT.userinput successfully initialized.\n",
      "2023-09-05 12:02:44,886 :: DEBUG    :: [userinput:62] :: Class UiTools of the module SMIT.userinput successfully initialized.\n",
      "2023-09-05 12:02:44,889 :: DEBUG    :: [rsahandling:60] :: Class RsaTools of the module SMIT.rsahandling successfully initialized.\n",
      "2023-09-05 12:02:44,889 :: DEBUG    :: [rsahandling:60] :: Class RsaTools of the module SMIT.rsahandling successfully initialized.\n",
      "2023-09-05 12:02:44,891 :: DEBUG    :: [filehandling:210] :: Class TomlTools of the module SMIT.filehandling successfully initialized.\n",
      "2023-09-05 12:02:44,891 :: DEBUG    :: [filehandling:210] :: Class TomlTools of the module SMIT.filehandling successfully initialized.\n",
      "2023-09-05 12:02:44,893 :: DEBUG    :: [filehandling:53] :: Class OsInterface of the module SMIT.filehandling successfully initialized.\n",
      "2023-09-05 12:02:44,893 :: DEBUG    :: [filehandling:53] :: Class OsInterface of the module SMIT.filehandling successfully initialized.\n",
      "2023-09-05 12:02:44,896 :: DEBUG    :: [filepersistence:42] :: Class Persistence of the module SMIT.filepersistence successfully initialized.\n",
      "2023-09-05 12:02:44,896 :: DEBUG    :: [filepersistence:42] :: Class Persistence of the module SMIT.filepersistence successfully initialized.\n",
      "2023-09-05 12:02:44,899 :: DEBUG    :: [scrapedata:69] :: Class Webscraper of the module SMIT.scrapedata successfully initialized.\n",
      "2023-09-05 12:02:44,899 :: DEBUG    :: [scrapedata:69] :: Class Webscraper of the module SMIT.scrapedata successfully initialized.\n"
     ]
    },
    {
     "name": "stderr",
     "output_type": "stream",
     "text": [
      "2023-09-05 12:02:47,764 :: DEBUG    :: [filehandling:321] :: password deleted from config\n",
      "2023-09-05 12:02:47,764 :: DEBUG    :: [filehandling:321] :: password deleted from config\n",
      "2023-09-05 12:03:02,207 :: DEBUG    :: [userinput:181] :: Credentials temporarily added to user attributes\n",
      "2023-09-05 12:03:02,207 :: DEBUG    :: [userinput:181] :: Credentials temporarily added to user attributes\n",
      "2023-09-05 12:03:02,265 :: INFO     :: [application:46] :: Application with user \"ch.koplenig@posteo.net\" instantiated\n",
      "2023-09-05 12:03:02,265 :: INFO     :: [application:46] :: Application with user \"ch.koplenig@posteo.net\" instantiated\n",
      "2023-09-05 12:03:02,269 :: DEBUG    :: [filepersistence:59] :: Dates log initialized\n",
      "2023-09-05 12:03:02,269 :: DEBUG    :: [filepersistence:59] :: Dates log initialized\n",
      "2023-09-05 12:03:02,275 :: DEBUG    :: [filepersistence:59] :: Dates log initialized\n",
      "2023-09-05 12:03:02,275 :: DEBUG    :: [filepersistence:59] :: Dates log initialized\n",
      "2023-09-05 12:03:02,280 :: INFO     :: [scrapedata:117] :: Firefox headless mode activated\n",
      "2023-09-05 12:03:02,280 :: INFO     :: [scrapedata:117] :: Firefox headless mode activated\n",
      "2023-09-05 12:03:12,380 :: DEBUG    :: [scrapedata:194] :: Login to Stromnetz Graz successful\n",
      "2023-09-05 12:03:12,380 :: DEBUG    :: [scrapedata:194] :: Login to Stromnetz Graz successful\n",
      "2023-09-05 12:03:28,305 :: INFO     :: [scrapedata:288] :: Downloaded data with the following arguments:\n",
      "2023-09-05 12:03:28,305 :: INFO     :: [scrapedata:288] :: Downloaded data with the following arguments:\n",
      "2023-09-05 12:03:28,309 :: INFO     :: [scrapedata:289] :: Start date: 31-08-2023\n",
      "2023-09-05 12:03:28,309 :: INFO     :: [scrapedata:289] :: Start date: 31-08-2023\n",
      "2023-09-05 12:03:28,311 :: INFO     :: [scrapedata:290] :: End date: 04-09-2023\n",
      "2023-09-05 12:03:28,311 :: INFO     :: [scrapedata:290] :: End date: 04-09-2023\n",
      "2023-09-05 12:03:28,314 :: DEBUG    :: [filehandling:102] :: Moved file for meter: 199996 to workdir\n",
      "2023-09-05 12:03:28,314 :: DEBUG    :: [filehandling:102] :: Moved file for meter: 199996 to workdir\n",
      "2023-09-05 12:03:28,318 :: DEBUG    :: [filehandling:102] :: Moved file for meter: 199997 to workdir\n",
      "2023-09-05 12:03:28,318 :: DEBUG    :: [filehandling:102] :: Moved file for meter: 199997 to workdir\n",
      "2023-09-05 12:03:28,496 :: DEBUG    :: [filehandling:150] :: Created pandas dataframe for meter: 199996\n",
      "2023-09-05 12:03:28,496 :: DEBUG    :: [filehandling:150] :: Created pandas dataframe for meter: 199996\n",
      "2023-09-05 12:03:28,613 :: DEBUG    :: [filehandling:150] :: Created pandas dataframe for meter: 199997\n",
      "2023-09-05 12:03:28,613 :: DEBUG    :: [filehandling:150] :: Created pandas dataframe for meter: 199997\n"
     ]
    },
    {
     "data": {
      "text/html": [
       "<div>\n",
       "<style scoped>\n",
       "    .dataframe tbody tr th:only-of-type {\n",
       "        vertical-align: middle;\n",
       "    }\n",
       "\n",
       "    .dataframe tbody tr th {\n",
       "        vertical-align: top;\n",
       "    }\n",
       "\n",
       "    .dataframe thead th {\n",
       "        text-align: right;\n",
       "    }\n",
       "</style>\n",
       "<table border=\"1\" class=\"dataframe\">\n",
       "  <thead>\n",
       "    <tr style=\"text-align: right;\">\n",
       "      <th></th>\n",
       "      <th>date</th>\n",
       "      <th>zaehlerstand</th>\n",
       "      <th>verbrauch</th>\n",
       "    </tr>\n",
       "  </thead>\n",
       "  <tbody>\n",
       "    <tr>\n",
       "      <th>248</th>\n",
       "      <td>2023-08-31</td>\n",
       "      <td>3236.842</td>\n",
       "      <td>4546.0</td>\n",
       "    </tr>\n",
       "    <tr>\n",
       "      <th>251</th>\n",
       "      <td>2023-09-01</td>\n",
       "      <td>3240.199</td>\n",
       "      <td>3357.0</td>\n",
       "    </tr>\n",
       "    <tr>\n",
       "      <th>254</th>\n",
       "      <td>2023-09-02</td>\n",
       "      <td>3244.675</td>\n",
       "      <td>4476.0</td>\n",
       "    </tr>\n",
       "    <tr>\n",
       "      <th>257</th>\n",
       "      <td>2023-09-03</td>\n",
       "      <td>3248.485</td>\n",
       "      <td>3810.0</td>\n",
       "    </tr>\n",
       "    <tr>\n",
       "      <th>259</th>\n",
       "      <td>2023-09-04</td>\n",
       "      <td>3251.924</td>\n",
       "      <td>3439.0</td>\n",
       "    </tr>\n",
       "  </tbody>\n",
       "</table>\n",
       "</div>"
      ],
      "text/plain": [
       "          date  zaehlerstand  verbrauch\n",
       "248 2023-08-31      3236.842     4546.0\n",
       "251 2023-09-01      3240.199     3357.0\n",
       "254 2023-09-02      3244.675     4476.0\n",
       "257 2023-09-03      3248.485     3810.0\n",
       "259 2023-09-04      3251.924     3439.0"
      ]
     },
     "execution_count": 3,
     "metadata": {},
     "output_type": "execute_result"
    }
   ],
   "source": [
    "app = Application()                     # Create user from user_data file\n",
    "app.os_tools.sng_scrape_and_move()      # Get/Update data from stromnetzgraz website\n",
    "\n",
    "# Create dataframes with all data\n",
    "df_day = app.os_tools.create_dataframe(app.Folder['work_daysum'], app.Meter['day_meter'])\n",
    "df_night = app.os_tools.create_dataframe(app.Folder['work_daysum'], app.Meter['night_meter'])\n",
    "\n",
    "# Print last entries of power consumption during the days\n",
    "df_day.tail()"
   ]
  },
  {
   "cell_type": "markdown",
   "metadata": {},
   "source": [
    "## Analysis\n",
    "Shown data depends on previous run with either dummy data or live data"
   ]
  },
  {
   "cell_type": "code",
   "execution_count": null,
   "metadata": {},
   "outputs": [],
   "source": [
    "fig = plt.figure(figsize =([30, 15]))\n",
    "\n",
    "# Gridspec Setup\n",
    "gs = gridspec.GridSpec(2, 2)\n",
    "ax = plt.subplot(gs[0, 0])\n",
    "gs.update(wspace = 0.1, hspace = 0.3)\n",
    "\n",
    "### AX1 ###\n",
    "ax1 = plt.subplot(gs[0, :2])\n",
    "sns.barplot(data=df_day,\n",
    "            x='date',\n",
    "            y='verbrauch')\n",
    "ax1.set_ylabel('Verbrauch [Wh]', labelpad = 0, fontsize = 12)\n",
    "ax1.xaxis.set_major_locator(md.MonthLocator())\n",
    "ax1.xaxis.set_major_formatter(md.DateFormatter('%b'))\n",
    "ax1.set_title('Tagesverbrauch')\n",
    "\n",
    "### AX2 ###\n",
    "ax2 = plt.subplot(gs[1, :2])\n",
    "sns.barplot(data=df_night,\n",
    "            x='date',\n",
    "            y='verbrauch')\n",
    "ax2.set_ylabel('Verbrauch [Wh]', labelpad = 0, fontsize = 12)\n",
    "ax2.xaxis.set_major_locator(md.MonthLocator())\n",
    "ax2.xaxis.set_major_formatter(md.DateFormatter('%b'))\n",
    "ax2.set_title('Nachtstrom')\n",
    "\n",
    "### Draw Plot ###\n",
    "plt.show()"
   ]
  }
 ],
 "metadata": {
  "kernelspec": {
   "display_name": "base",
   "language": "python",
   "name": "python3"
  },
  "language_info": {
   "codemirror_mode": {
    "name": "ipython",
    "version": 3
   },
   "file_extension": ".py",
   "mimetype": "text/x-python",
   "name": "python",
   "nbconvert_exporter": "python",
   "pygments_lexer": "ipython3",
   "version": "3.11.4"
  },
  "orig_nbformat": 4
 },
 "nbformat": 4,
 "nbformat_minor": 2
}
