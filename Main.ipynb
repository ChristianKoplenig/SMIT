{
 "cells": [
  {
   "cell_type": "markdown",
   "metadata": {},
   "source": [
    "# <center> Stromnetz Graz Smart Meter Analysis"
   ]
  },
  {
   "cell_type": "code",
   "execution_count": null,
   "metadata": {},
   "outputs": [],
   "source": [
    "# Imports for plot\n",
    "import seaborn as sns\n",
    "import matplotlib.pyplot as plt\n",
    "import matplotlib.dates as md\n",
    "import matplotlib.gridspec as gridspec\n",
    "# Custom Modules\n",
    "from SMIT.application import Application"
   ]
  },
  {
   "cell_type": "markdown",
   "metadata": {},
   "source": [
    "## Setup"
   ]
  },
  {
   "cell_type": "code",
   "execution_count": null,
   "metadata": {},
   "outputs": [],
   "source": [
    "app = Application()                       # Create user from user_data file\n",
    "app.os_tools.sng_scrape_and_move()    # Update data from stromnetzgraz website\n",
    "\n",
    "#print(app.scrape)\n",
    "# Create dataframes with all data\n",
    "df_day = app.os_tools.create_dataframe(app.Folder['work_daysum'], app.Meter['day_meter'])\n",
    "df_night = app.os_tools.create_dataframe(app.Folder['work_daysum'], app.Meter['night_meter'])"
   ]
  },
  {
   "cell_type": "code",
   "execution_count": null,
   "metadata": {},
   "outputs": [],
   "source": [
    "df_day.tail()"
   ]
  },
  {
   "cell_type": "markdown",
   "metadata": {},
   "source": [
    "## Analysis"
   ]
  },
  {
   "cell_type": "code",
   "execution_count": null,
   "metadata": {},
   "outputs": [],
   "source": [
    "fig = plt.figure(figsize =([30, 15]))\n",
    "\n",
    "# Gridspec Setup\n",
    "gs = gridspec.GridSpec(2, 2)\n",
    "ax = plt.subplot(gs[0, 0])\n",
    "gs.update(wspace = 0.1, hspace = 0.3)\n",
    "\n",
    "### AX1 ###\n",
    "ax1 = plt.subplot(gs[0, :2])\n",
    "sns.barplot(data=df_day,\n",
    "            x='date',\n",
    "            y='verbrauch')\n",
    "ax1.set_ylabel('Verbrauch [Wh]', labelpad = 0, fontsize = 12)\n",
    "ax1.xaxis.set_major_locator(md.MonthLocator())\n",
    "ax1.xaxis.set_major_formatter(md.DateFormatter('%b'))\n",
    "ax1.set_title('Tagesverbrauch')\n",
    "\n",
    "### AX2 ###\n",
    "ax2 = plt.subplot(gs[1, :2])\n",
    "sns.barplot(data=df_night,\n",
    "            x='date',\n",
    "            y='verbrauch')\n",
    "ax2.set_ylabel('Verbrauch [Wh]', labelpad = 0, fontsize = 12)\n",
    "ax2.xaxis.set_major_locator(md.MonthLocator())\n",
    "ax2.xaxis.set_major_formatter(md.DateFormatter('%b'))\n",
    "ax2.set_title('Nachtstrom')\n",
    "\n",
    "### Draw Plot ###\n",
    "plt.show()"
   ]
  }
 ],
 "metadata": {
  "kernelspec": {
   "display_name": "base",
   "language": "python",
   "name": "python3"
  },
  "language_info": {
   "codemirror_mode": {
    "name": "ipython",
    "version": 3
   },
   "file_extension": ".py",
   "mimetype": "text/x-python",
   "name": "python",
   "nbconvert_exporter": "python",
   "pygments_lexer": "ipython3",
   "version": "3.11.4"
  },
  "orig_nbformat": 4
 },
 "nbformat": 4,
 "nbformat_minor": 2
}
