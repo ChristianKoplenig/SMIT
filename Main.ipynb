{
 "cells": [
  {
   "cell_type": "markdown",
   "metadata": {},
   "source": [
    "# <center> Stromnetz Graz Smart Meter Analysis"
   ]
  },
  {
   "cell_type": "code",
   "execution_count": 1,
   "metadata": {},
   "outputs": [],
   "source": [
    "# Imports for plot\n",
    "import seaborn as sns\n",
    "import matplotlib.pyplot as plt\n",
    "import matplotlib.dates as md\n",
    "import matplotlib.gridspec as gridspec\n",
    "# Custom Modules\n",
    "from SMIT.application import Application"
   ]
  },
  {
   "cell_type": "markdown",
   "metadata": {},
   "source": [
    "## Setup"
   ]
  },
  {
   "cell_type": "markdown",
   "metadata": {},
   "source": [
    "### Run with dummy data"
   ]
  },
  {
   "cell_type": "code",
   "execution_count": null,
   "metadata": {},
   "outputs": [],
   "source": [
    "app = Application(True)                 # Run appliction in dummy mode.\n",
    "app.os_tools.sng_scrape_and_move()      # No webscraping, dummy csv file setup.\n",
    "\n",
    "# Create dataframes with all data\n",
    "df_day = app.os_tools.create_dataframe(app.Folder['work_daysum'], app.Meter['day_meter'])\n",
    "df_night = app.os_tools.create_dataframe(app.Folder['work_daysum'], app.Meter['night_meter'])\n",
    "\n",
    "# Print last entries of power consumption during the days\n",
    "df_day.tail()"
   ]
  },
  {
   "cell_type": "markdown",
   "metadata": {},
   "source": [
    "### Run with live data\n",
    "An account to Stromnetz Graz is needed  \n",
    "Input dialog will be triggered"
   ]
  },
  {
   "cell_type": "code",
   "execution_count": 2,
   "metadata": {},
   "outputs": [
    {
     "name": "stderr",
     "output_type": "stream",
     "text": [
      "2023-10-17 10:02:23,733 :: INFO     :: [application:82] :: Application with user \"ch.koplenig@posteo.net\" instantiated\n",
      "2023-10-17 10:02:23,742 :: INFO     :: [scrapedata:113] :: Firefox headless mode activated\n"
     ]
    },
    {
     "ename": "UnexpectedAlertPresentException",
     "evalue": "Alert Text: None\nMessage: Dismissed user prompt dialog: E-Mail Adresse und/oder Passwort ungültig\nStacktrace:\nRemoteError@chrome://remote/content/shared/RemoteError.sys.mjs:8:8\nWebDriverError@chrome://remote/content/shared/webdriver/Errors.sys.mjs:187:5\nUnexpectedAlertOpenError@chrome://remote/content/shared/webdriver/Errors.sys.mjs:704:5\nGeckoDriver.prototype._handleUserPrompts@chrome://remote/content/marionette/driver.sys.mjs:2841:13\n",
     "output_type": "error",
     "traceback": [
      "\u001b[0;31m---------------------------------------------------------------------------\u001b[0m",
      "\u001b[0;31mUnexpectedAlertPresentException\u001b[0m           Traceback (most recent call last)",
      "\u001b[1;32m/data/coding/SMIT/Main.ipynb Cell 7\u001b[0m line \u001b[0;36m2\n\u001b[1;32m      <a href='vscode-notebook-cell:/data/coding/SMIT/Main.ipynb#W6sZmlsZQ%3D%3D?line=0'>1</a>\u001b[0m app \u001b[39m=\u001b[39m Application()                     \u001b[39m# Create user from user_data file\u001b[39;00m\n\u001b[0;32m----> <a href='vscode-notebook-cell:/data/coding/SMIT/Main.ipynb#W6sZmlsZQ%3D%3D?line=1'>2</a>\u001b[0m app\u001b[39m.\u001b[39;49mos_tools\u001b[39m.\u001b[39;49msng_scrape_and_move()      \u001b[39m# Get/Update data from stromnetzgraz website\u001b[39;00m\n\u001b[1;32m      <a href='vscode-notebook-cell:/data/coding/SMIT/Main.ipynb#W6sZmlsZQ%3D%3D?line=3'>4</a>\u001b[0m \u001b[39m# Create dataframes with all data\u001b[39;00m\n\u001b[1;32m      <a href='vscode-notebook-cell:/data/coding/SMIT/Main.ipynb#W6sZmlsZQ%3D%3D?line=4'>5</a>\u001b[0m df_day \u001b[39m=\u001b[39m app\u001b[39m.\u001b[39mos_tools\u001b[39m.\u001b[39mcreate_dataframe(app\u001b[39m.\u001b[39mFolder[\u001b[39m'\u001b[39m\u001b[39mwork_daysum\u001b[39m\u001b[39m'\u001b[39m], app\u001b[39m.\u001b[39mMeter[\u001b[39m'\u001b[39m\u001b[39mday_meter\u001b[39m\u001b[39m'\u001b[39m])\n",
      "File \u001b[0;32m/data/coding/SMIT/src/SMIT/filehandling.py:167\u001b[0m, in \u001b[0;36mOsInterface.sng_scrape_and_move\u001b[0;34m(self)\u001b[0m\n\u001b[1;32m    164\u001b[0m \u001b[39m# Scrape just once a day\u001b[39;00m\n\u001b[1;32m    165\u001b[0m \u001b[39mif\u001b[39;00m \u001b[39mnot\u001b[39;00m dates[\u001b[39m'\u001b[39m\u001b[39mstart\u001b[39m\u001b[39m'\u001b[39m] \u001b[39m==\u001b[39m dt\u001b[39m.\u001b[39mdate\u001b[39m.\u001b[39mtoday()\u001b[39m.\u001b[39mstrftime(\u001b[39m'\u001b[39m\u001b[39m%d\u001b[39;00m\u001b[39m-\u001b[39m\u001b[39m%\u001b[39m\u001b[39mm-\u001b[39m\u001b[39m%\u001b[39m\u001b[39mY\u001b[39m\u001b[39m'\u001b[39m):\n\u001b[0;32m--> 167\u001b[0m     \u001b[39mself\u001b[39;49m\u001b[39m.\u001b[39;49muser\u001b[39m.\u001b[39;49mscrape\u001b[39m.\u001b[39;49mget_daysum_files(\u001b[39mself\u001b[39;49m\u001b[39m.\u001b[39;49muser\u001b[39m.\u001b[39;49mOptions[\u001b[39m'\u001b[39;49m\u001b[39mheadless_mode\u001b[39;49m\u001b[39m'\u001b[39;49m])\n\u001b[1;32m    168\u001b[0m     \u001b[39mself\u001b[39m\u001b[39m.\u001b[39m_move_files_to_workdir(\u001b[39mself\u001b[39m\u001b[39m.\u001b[39muser\u001b[39m.\u001b[39mMeter[\u001b[39m'\u001b[39m\u001b[39mday_meter\u001b[39m\u001b[39m'\u001b[39m])\n\u001b[1;32m    169\u001b[0m     \u001b[39mself\u001b[39m\u001b[39m.\u001b[39m_move_files_to_workdir(\u001b[39mself\u001b[39m\u001b[39m.\u001b[39muser\u001b[39m.\u001b[39mMeter[\u001b[39m'\u001b[39m\u001b[39mnight_meter\u001b[39m\u001b[39m'\u001b[39m])\n",
      "File \u001b[0;32m/data/coding/SMIT/src/SMIT/scrapedata.py:293\u001b[0m, in \u001b[0;36mWebscraper.get_daysum_files\u001b[0;34m(self, headless)\u001b[0m\n\u001b[1;32m    291\u001b[0m \u001b[39m# scrape just once a day\u001b[39;00m\n\u001b[1;32m    292\u001b[0m \u001b[39mif\u001b[39;00m \u001b[39mnot\u001b[39;00m dates[\u001b[39m'\u001b[39m\u001b[39mstart\u001b[39m\u001b[39m'\u001b[39m] \u001b[39m==\u001b[39m date\u001b[39m.\u001b[39mtoday()\u001b[39m.\u001b[39mstrftime(\u001b[39m'\u001b[39m\u001b[39m%d\u001b[39;00m\u001b[39m-\u001b[39m\u001b[39m%\u001b[39m\u001b[39mm-\u001b[39m\u001b[39m%\u001b[39m\u001b[39mY\u001b[39m\u001b[39m'\u001b[39m):\n\u001b[0;32m--> 293\u001b[0m     \u001b[39mself\u001b[39;49m\u001b[39m.\u001b[39;49msng_login(\u001b[39mself\u001b[39;49m\u001b[39m.\u001b[39;49muser\u001b[39m.\u001b[39;49mFolder[\u001b[39m'\u001b[39;49m\u001b[39mraw_daysum\u001b[39;49m\u001b[39m'\u001b[39;49m], headless)\n\u001b[1;32m    294\u001b[0m     \u001b[39mself\u001b[39m\u001b[39m.\u001b[39m_sng_switch_day_night_meassurements(\u001b[39m'\u001b[39m\u001b[39mnight\u001b[39m\u001b[39m'\u001b[39m)\n\u001b[1;32m    295\u001b[0m     \u001b[39mself\u001b[39m\u001b[39m.\u001b[39m_sng_fill_dates_element(dates[\u001b[39m'\u001b[39m\u001b[39mstart\u001b[39m\u001b[39m'\u001b[39m], dates[\u001b[39m'\u001b[39m\u001b[39mend\u001b[39m\u001b[39m'\u001b[39m])\n",
      "File \u001b[0;32m/data/coding/SMIT/src/SMIT/scrapedata.py:192\u001b[0m, in \u001b[0;36mWebscraper.sng_login\u001b[0;34m(self, dl_folder, headless)\u001b[0m\n\u001b[1;32m    190\u001b[0m \u001b[39mself\u001b[39m\u001b[39m.\u001b[39mwait_and_click(\u001b[39m'\u001b[39m\u001b[39m/html/body/div/app-root/main/div/app-login/div[2]/div[1]/form/div[3]/button\u001b[39m\u001b[39m'\u001b[39m)\n\u001b[1;32m    191\u001b[0m \u001b[39m# Open data page\u001b[39;00m\n\u001b[0;32m--> 192\u001b[0m \u001b[39mself\u001b[39;49m\u001b[39m.\u001b[39;49mwait_and_click(\u001b[39m'\u001b[39;49m\u001b[39m/html/body/div/app-root/main/div/app-dashboard/div[2]/div/div[1]/div[1]/div\u001b[39;49m\u001b[39m'\u001b[39;49m)\n\u001b[1;32m    193\u001b[0m \u001b[39m# Set unit to [Wh]\u001b[39;00m\n\u001b[1;32m    194\u001b[0m \u001b[39mself\u001b[39m\u001b[39m.\u001b[39mwait_and_click(\u001b[39m'\u001b[39m\u001b[39m/html/body/div/app-root/main/div/app-overview/div/div[2]/div[3]/app-unit-selector/div/div[2]\u001b[39m\u001b[39m'\u001b[39m)\n",
      "File \u001b[0;32m/data/coding/SMIT/src/SMIT/scrapedata.py:76\u001b[0m, in \u001b[0;36mWebscraper.wait_and_click\u001b[0;34m(self, elementXpath)\u001b[0m\n\u001b[1;32m     60\u001b[0m \u001b[39mdef\u001b[39;00m \u001b[39mwait_and_click\u001b[39m(\u001b[39mself\u001b[39m, elementXpath: \u001b[39mstr\u001b[39m) \u001b[39m-\u001b[39m\u001b[39m>\u001b[39m \u001b[39mNone\u001b[39;00m:\n\u001b[1;32m     61\u001b[0m \u001b[39m    \u001b[39m\u001b[39m\"\"\"Wait for web element and trigger action.\u001b[39;00m\n\u001b[1;32m     62\u001b[0m \n\u001b[1;32m     63\u001b[0m \u001b[39m    As soon as the element is\u001b[39;00m\n\u001b[0;32m   (...)\u001b[0m\n\u001b[1;32m     74\u001b[0m \u001b[39m                                the element to click on.\u001b[39;00m\n\u001b[1;32m     75\u001b[0m \u001b[39m    \"\"\"\u001b[39;00m\n\u001b[0;32m---> 76\u001b[0m     switchName \u001b[39m=\u001b[39m WebDriverWait(\u001b[39mself\u001b[39;49m\u001b[39m.\u001b[39;49mdriver, \u001b[39m10\u001b[39;49m)\u001b[39m.\u001b[39;49muntil(\n\u001b[1;32m     77\u001b[0m         EC\u001b[39m.\u001b[39;49melement_to_be_clickable((By\u001b[39m.\u001b[39;49mXPATH, elementXpath))\n\u001b[1;32m     78\u001b[0m     )\n\u001b[1;32m     79\u001b[0m     switchName\u001b[39m.\u001b[39mclick()\n",
      "File \u001b[0;32m/data/coding/SMIT/.venv/lib/python3.11/site-packages/selenium/webdriver/support/wait.py:86\u001b[0m, in \u001b[0;36mWebDriverWait.until\u001b[0;34m(self, method, message)\u001b[0m\n\u001b[1;32m     84\u001b[0m \u001b[39mwhile\u001b[39;00m \u001b[39mTrue\u001b[39;00m:\n\u001b[1;32m     85\u001b[0m     \u001b[39mtry\u001b[39;00m:\n\u001b[0;32m---> 86\u001b[0m         value \u001b[39m=\u001b[39m method(\u001b[39mself\u001b[39;49m\u001b[39m.\u001b[39;49m_driver)\n\u001b[1;32m     87\u001b[0m         \u001b[39mif\u001b[39;00m value:\n\u001b[1;32m     88\u001b[0m             \u001b[39mreturn\u001b[39;00m value\n",
      "File \u001b[0;32m/data/coding/SMIT/.venv/lib/python3.11/site-packages/selenium/webdriver/support/expected_conditions.py:354\u001b[0m, in \u001b[0;36melement_to_be_clickable.<locals>._predicate\u001b[0;34m(driver)\u001b[0m\n\u001b[1;32m    352\u001b[0m target \u001b[39m=\u001b[39m mark\n\u001b[1;32m    353\u001b[0m \u001b[39mif\u001b[39;00m \u001b[39mnot\u001b[39;00m \u001b[39misinstance\u001b[39m(target, WebElement):  \u001b[39m# if given locator instead of WebElement\u001b[39;00m\n\u001b[0;32m--> 354\u001b[0m     target \u001b[39m=\u001b[39m driver\u001b[39m.\u001b[39;49mfind_element(\u001b[39m*\u001b[39;49mtarget)  \u001b[39m# grab element at locator\u001b[39;00m\n\u001b[1;32m    355\u001b[0m target \u001b[39m=\u001b[39m visibility_of(target)(driver)\n\u001b[1;32m    356\u001b[0m \u001b[39mif\u001b[39;00m target \u001b[39mand\u001b[39;00m target\u001b[39m.\u001b[39mis_enabled():\n",
      "File \u001b[0;32m/data/coding/SMIT/.venv/lib/python3.11/site-packages/selenium/webdriver/remote/webdriver.py:738\u001b[0m, in \u001b[0;36mWebDriver.find_element\u001b[0;34m(self, by, value)\u001b[0m\n\u001b[1;32m    735\u001b[0m     by \u001b[39m=\u001b[39m By\u001b[39m.\u001b[39mCSS_SELECTOR\n\u001b[1;32m    736\u001b[0m     value \u001b[39m=\u001b[39m \u001b[39mf\u001b[39m\u001b[39m'\u001b[39m\u001b[39m[name=\u001b[39m\u001b[39m\"\u001b[39m\u001b[39m{\u001b[39;00mvalue\u001b[39m}\u001b[39;00m\u001b[39m\"\u001b[39m\u001b[39m]\u001b[39m\u001b[39m'\u001b[39m\n\u001b[0;32m--> 738\u001b[0m \u001b[39mreturn\u001b[39;00m \u001b[39mself\u001b[39;49m\u001b[39m.\u001b[39;49mexecute(Command\u001b[39m.\u001b[39;49mFIND_ELEMENT, {\u001b[39m\"\u001b[39;49m\u001b[39musing\u001b[39;49m\u001b[39m\"\u001b[39;49m: by, \u001b[39m\"\u001b[39;49m\u001b[39mvalue\u001b[39;49m\u001b[39m\"\u001b[39;49m: value})[\u001b[39m\"\u001b[39m\u001b[39mvalue\u001b[39m\u001b[39m\"\u001b[39m]\n",
      "File \u001b[0;32m/data/coding/SMIT/.venv/lib/python3.11/site-packages/selenium/webdriver/remote/webdriver.py:344\u001b[0m, in \u001b[0;36mWebDriver.execute\u001b[0;34m(self, driver_command, params)\u001b[0m\n\u001b[1;32m    342\u001b[0m response \u001b[39m=\u001b[39m \u001b[39mself\u001b[39m\u001b[39m.\u001b[39mcommand_executor\u001b[39m.\u001b[39mexecute(driver_command, params)\n\u001b[1;32m    343\u001b[0m \u001b[39mif\u001b[39;00m response:\n\u001b[0;32m--> 344\u001b[0m     \u001b[39mself\u001b[39;49m\u001b[39m.\u001b[39;49merror_handler\u001b[39m.\u001b[39;49mcheck_response(response)\n\u001b[1;32m    345\u001b[0m     response[\u001b[39m\"\u001b[39m\u001b[39mvalue\u001b[39m\u001b[39m\"\u001b[39m] \u001b[39m=\u001b[39m \u001b[39mself\u001b[39m\u001b[39m.\u001b[39m_unwrap_value(response\u001b[39m.\u001b[39mget(\u001b[39m\"\u001b[39m\u001b[39mvalue\u001b[39m\u001b[39m\"\u001b[39m, \u001b[39mNone\u001b[39;00m))\n\u001b[1;32m    346\u001b[0m     \u001b[39mreturn\u001b[39;00m response\n",
      "File \u001b[0;32m/data/coding/SMIT/.venv/lib/python3.11/site-packages/selenium/webdriver/remote/errorhandler.py:228\u001b[0m, in \u001b[0;36mErrorHandler.check_response\u001b[0;34m(self, response)\u001b[0m\n\u001b[1;32m    226\u001b[0m     \u001b[39melif\u001b[39;00m \u001b[39m\"\u001b[39m\u001b[39malert\u001b[39m\u001b[39m\"\u001b[39m \u001b[39min\u001b[39;00m value:\n\u001b[1;32m    227\u001b[0m         alert_text \u001b[39m=\u001b[39m value[\u001b[39m\"\u001b[39m\u001b[39malert\u001b[39m\u001b[39m\"\u001b[39m]\u001b[39m.\u001b[39mget(\u001b[39m\"\u001b[39m\u001b[39mtext\u001b[39m\u001b[39m\"\u001b[39m)\n\u001b[0;32m--> 228\u001b[0m     \u001b[39mraise\u001b[39;00m exception_class(message, screen, stacktrace, alert_text)  \u001b[39m# type: ignore[call-arg]  # mypy is not smart enough here\u001b[39;00m\n\u001b[1;32m    229\u001b[0m \u001b[39mraise\u001b[39;00m exception_class(message, screen, stacktrace)\n",
      "\u001b[0;31mUnexpectedAlertPresentException\u001b[0m: Alert Text: None\nMessage: Dismissed user prompt dialog: E-Mail Adresse und/oder Passwort ungültig\nStacktrace:\nRemoteError@chrome://remote/content/shared/RemoteError.sys.mjs:8:8\nWebDriverError@chrome://remote/content/shared/webdriver/Errors.sys.mjs:187:5\nUnexpectedAlertOpenError@chrome://remote/content/shared/webdriver/Errors.sys.mjs:704:5\nGeckoDriver.prototype._handleUserPrompts@chrome://remote/content/marionette/driver.sys.mjs:2841:13\n"
     ]
    }
   ],
   "source": [
    "app = Application()                     # Create user from user_data file\n",
    "app.os_tools.sng_scrape_and_move()      # Get/Update data from stromnetzgraz website\n",
    "\n",
    "# Create dataframes with all data\n",
    "df_day = app.os_tools.create_dataframe(app.Folder['work_daysum'], app.Meter['day_meter'])\n",
    "df_night = app.os_tools.create_dataframe(app.Folder['work_daysum'], app.Meter['night_meter'])\n",
    "\n",
    "# Print last entries of power consumption during the days\n",
    "df_day.tail()"
   ]
  },
  {
   "cell_type": "markdown",
   "metadata": {},
   "source": [
    "## Analysis\n",
    "Shown data depends on previous run with either dummy data or live data"
   ]
  },
  {
   "cell_type": "code",
   "execution_count": null,
   "metadata": {},
   "outputs": [],
   "source": [
    "fig = plt.figure(figsize =([30, 15]))\n",
    "\n",
    "# Gridspec Setup\n",
    "gs = gridspec.GridSpec(2, 2)\n",
    "ax = plt.subplot(gs[0, 0])\n",
    "gs.update(wspace = 0.1, hspace = 0.3)\n",
    "\n",
    "### AX1 ###\n",
    "ax1 = plt.subplot(gs[0, :2])\n",
    "sns.barplot(data=df_day,\n",
    "            x='date',\n",
    "            y='verbrauch')\n",
    "ax1.set_ylabel('Verbrauch [Wh]', labelpad = 0, fontsize = 12)\n",
    "ax1.xaxis.set_major_locator(md.MonthLocator())\n",
    "ax1.xaxis.set_major_formatter(md.DateFormatter('%b'))\n",
    "ax1.set_title('Tagesverbrauch')\n",
    "\n",
    "### AX2 ###\n",
    "ax2 = plt.subplot(gs[1, :2])\n",
    "sns.barplot(data=df_night,\n",
    "            x='date',\n",
    "            y='verbrauch')\n",
    "ax2.set_ylabel('Verbrauch [Wh]', labelpad = 0, fontsize = 12)\n",
    "ax2.xaxis.set_major_locator(md.MonthLocator())\n",
    "ax2.xaxis.set_major_formatter(md.DateFormatter('%b'))\n",
    "ax2.set_title('Nachtstrom')\n",
    "\n",
    "### Draw Plot ###\n",
    "plt.show()"
   ]
  }
 ],
 "metadata": {
  "kernelspec": {
   "display_name": "base",
   "language": "python",
   "name": "python3"
  },
  "language_info": {
   "codemirror_mode": {
    "name": "ipython",
    "version": 3
   },
   "file_extension": ".py",
   "mimetype": "text/x-python",
   "name": "python",
   "nbconvert_exporter": "python",
   "pygments_lexer": "ipython3",
   "version": "3.11.6"
  },
  "orig_nbformat": 4
 },
 "nbformat": 4,
 "nbformat_minor": 2
}
