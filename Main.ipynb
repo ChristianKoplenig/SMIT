{
 "cells": [
  {
   "cell_type": "markdown",
   "metadata": {},
   "source": [
    "# <center> Stromnetz Graz Smart Meter Analysis"
   ]
  },
  {
   "cell_type": "code",
   "execution_count": 1,
   "metadata": {},
   "outputs": [],
   "source": [
    "# Imports for plot\n",
    "import seaborn as sns\n",
    "import matplotlib.pyplot as plt\n",
    "import matplotlib.dates as md\n",
    "import matplotlib.gridspec as gridspec\n",
    "# Custom Modules\n",
    "from SMIT.application import Application"
   ]
  },
  {
   "cell_type": "markdown",
   "metadata": {},
   "source": [
    "## Setup"
   ]
  },
  {
   "cell_type": "code",
   "execution_count": 3,
   "metadata": {},
   "outputs": [
    {
     "name": "stdout",
     "output_type": "stream",
     "text": [
      "Application init\n",
      "################\n",
      "TOML added to self\n",
      "##################\n",
      "TOML added to self\n",
      "##################\n",
      "folder_init loaded\n",
      "##################\n",
      "folder checked: ./csv_raw/daily\n",
      "folder checked: ./csv_raw/15min\n",
      "folder checked: ./log\n",
      "folder checked: ./csv_workdir/daily\n",
      "folder checked: ./csv_workdir/15min\n",
      "folder checked: ./config\n",
      "\n",
      "\n",
      "Modules loaded\n",
      "gui - Module 'SMIT.userinput.UiTools'\n",
      "rsa - Module 'SMIT.rsahandling.RsaTools'\n",
      "toml_tools - Module 'SMIT.filehandling.TomlTools'\n",
      "os_tools - Module 'SMIT.filehandling.OsInterface'\n",
      "persistence - Module 'SMIT.filepersistence.Persistence'\n",
      "scrape - Module 'SMIT.scrapedata.Webscraper'\n",
      "##############\n",
      "Modules added to self\n",
      "#####################\n",
      "Firefox headless mode activated\n",
      "Downloaded data with the following arguments:\n",
      "Start date: 28-08-2023\n",
      "End date: 28-08-2023\n"
     ]
    }
   ],
   "source": [
    "app = Application()                       # Create user from user_data file\n",
    "app.os_tools.scrapandmove()    # Update data from stromnetzgraz website\n",
    "\n",
    "#print(app.scrape)\n",
    "# Create dataframes with all data\n",
    "df_day = app.os_tools.create_dataframe(app.Folder['work_daysum'], app.Meter['day_meter'])\n",
    "df_night = app.os_tools.create_dataframe(app.Folder['work_daysum'], app.Meter['night_meter'])"
   ]
  },
  {
   "cell_type": "code",
   "execution_count": 4,
   "metadata": {},
   "outputs": [
    {
     "data": {
      "text/html": [
       "<div>\n",
       "<style scoped>\n",
       "    .dataframe tbody tr th:only-of-type {\n",
       "        vertical-align: middle;\n",
       "    }\n",
       "\n",
       "    .dataframe tbody tr th {\n",
       "        vertical-align: top;\n",
       "    }\n",
       "\n",
       "    .dataframe thead th {\n",
       "        text-align: right;\n",
       "    }\n",
       "</style>\n",
       "<table border=\"1\" class=\"dataframe\">\n",
       "  <thead>\n",
       "    <tr style=\"text-align: right;\">\n",
       "      <th></th>\n",
       "      <th>date</th>\n",
       "      <th>zaehlerstand</th>\n",
       "      <th>verbrauch</th>\n",
       "    </tr>\n",
       "  </thead>\n",
       "  <tbody>\n",
       "    <tr>\n",
       "      <th>241</th>\n",
       "      <td>2023-08-24</td>\n",
       "      <td>0.000</td>\n",
       "      <td>3639.667</td>\n",
       "    </tr>\n",
       "    <tr>\n",
       "      <th>242</th>\n",
       "      <td>2023-08-25</td>\n",
       "      <td>3210.209</td>\n",
       "      <td>3766.000</td>\n",
       "    </tr>\n",
       "    <tr>\n",
       "      <th>243</th>\n",
       "      <td>2023-08-26</td>\n",
       "      <td>3215.948</td>\n",
       "      <td>5739.000</td>\n",
       "    </tr>\n",
       "    <tr>\n",
       "      <th>244</th>\n",
       "      <td>2023-08-27</td>\n",
       "      <td>3219.726</td>\n",
       "      <td>3778.000</td>\n",
       "    </tr>\n",
       "    <tr>\n",
       "      <th>245</th>\n",
       "      <td>2023-08-28</td>\n",
       "      <td>3224.030</td>\n",
       "      <td>4304.000</td>\n",
       "    </tr>\n",
       "  </tbody>\n",
       "</table>\n",
       "</div>"
      ],
      "text/plain": [
       "          date  zaehlerstand  verbrauch\n",
       "241 2023-08-24         0.000   3639.667\n",
       "242 2023-08-25      3210.209   3766.000\n",
       "243 2023-08-26      3215.948   5739.000\n",
       "244 2023-08-27      3219.726   3778.000\n",
       "245 2023-08-28      3224.030   4304.000"
      ]
     },
     "execution_count": 4,
     "metadata": {},
     "output_type": "execute_result"
    }
   ],
   "source": [
    "df_day.tail()"
   ]
  },
  {
   "cell_type": "markdown",
   "metadata": {},
   "source": [
    "## Analysis"
   ]
  },
  {
   "cell_type": "code",
   "execution_count": null,
   "metadata": {},
   "outputs": [],
   "source": [
    "fig = plt.figure(figsize =([30, 15]))\n",
    "\n",
    "# Gridspec Setup\n",
    "gs = gridspec.GridSpec(2, 2)\n",
    "ax = plt.subplot(gs[0, 0])\n",
    "gs.update(wspace = 0.1, hspace = 0.3)\n",
    "\n",
    "### AX1 ###\n",
    "ax1 = plt.subplot(gs[0, :2])\n",
    "sns.barplot(data=df_day,\n",
    "            x='date',\n",
    "            y='verbrauch')\n",
    "ax1.set_ylabel('Verbrauch [Wh]', labelpad = 0, fontsize = 12)\n",
    "ax1.xaxis.set_major_locator(md.MonthLocator())\n",
    "ax1.xaxis.set_major_formatter(md.DateFormatter('%b'))\n",
    "ax1.set_title('Tagesverbrauch')\n",
    "\n",
    "### AX2 ###\n",
    "ax2 = plt.subplot(gs[1, :2])\n",
    "sns.barplot(data=df_night,\n",
    "            x='date',\n",
    "            y='verbrauch')\n",
    "ax2.set_ylabel('Verbrauch [Wh]', labelpad = 0, fontsize = 12)\n",
    "ax2.xaxis.set_major_locator(md.MonthLocator())\n",
    "ax2.xaxis.set_major_formatter(md.DateFormatter('%b'))\n",
    "ax2.set_title('Nachtstrom')\n",
    "\n",
    "### Draw Plot ###\n",
    "plt.show()"
   ]
  }
 ],
 "metadata": {
  "kernelspec": {
   "display_name": "base",
   "language": "python",
   "name": "python3"
  },
  "language_info": {
   "codemirror_mode": {
    "name": "ipython",
    "version": 3
   },
   "file_extension": ".py",
   "mimetype": "text/x-python",
   "name": "python",
   "nbconvert_exporter": "python",
   "pygments_lexer": "ipython3",
   "version": "3.11.4"
  },
  "orig_nbformat": 4
 },
 "nbformat": 4,
 "nbformat_minor": 2
}
