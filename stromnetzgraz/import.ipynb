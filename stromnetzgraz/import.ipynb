{
 "cells": [
  {
   "attachments": {},
   "cell_type": "markdown",
   "metadata": {},
   "source": [
    "# <center>Analyse csv files from Stromnetz Graz"
   ]
  },
  {
   "cell_type": "code",
   "execution_count": null,
   "metadata": {},
   "outputs": [],
   "source": [
    "import os\n",
    "import glob\n",
    "import datetime as dt\n",
    "import pandas as pd\n",
    "import seaborn as sns\n",
    "import matplotlib.pyplot as plt\n",
    "import matplotlib.dates as md\n",
    "import matplotlib.gridspec as gridspec\n",
    "\n",
    "############ Variables ############\n",
    "# User defined Variables\n",
    "id_day = '996'      # Endnummer Zaehlpunkt fuer Tagstrom\n",
    "id_night = '997'    # Endnummer Zaehlpunkt fuer Nachtstrom\n",
    "id_sum = 'dsum'     # Kenner fuer Tagessummen Messungen\n",
    "id_res = '15min'    # Kenner fuer 15 Minuten Messungen\n",
    "\n",
    "# Path Variables\n",
    "path = os.getcwd() + r'/raw_import'\n",
    "all_files = glob.glob(path + \"/*.csv\")"
   ]
  },
  {
   "attachments": {},
   "cell_type": "markdown",
   "metadata": {},
   "source": [
    "## Import measurements with one day resolution\n",
    "Tag und Nacht Strom implementiert"
   ]
  },
  {
   "cell_type": "code",
   "execution_count": null,
   "metadata": {},
   "outputs": [],
   "source": [
    "# Define dataframes\n",
    "df_day = []\n",
    "df_night = []\n",
    "day_files = []\n",
    "night_files = []\n",
    "\n",
    "# Daysum Day measurements\n",
    "for filename in all_files:\n",
    "    if (id_day in filename) and (id_sum in filename):\n",
    "        day_files.append(filename)\n",
    "        df_day = pd.concat((pd.read_csv(r,\n",
    "                                        decimal=',',\n",
    "                                        header=0,\n",
    "                                        parse_dates=['date'],\n",
    "                                        converters={'date': lambda t: dt.datetime.strptime(t, '%Y-%m-%dT%H:%M:%S.%f%z').date()},\n",
    "                                        names=['date', 'zaehlerstand', '1', '2', 'verbrauch', '3', '4'],\n",
    "                                        usecols=lambda x: x in ['date', 'zaehlerstand', 'verbrauch'],\n",
    "                                        )\n",
    "                            for r in day_files))\n",
    "\n",
    "        df_day['zaehlerstand'] = df_day['zaehlerstand'].astype(float)\n",
    "        df_day['verbrauch'] = df_day['verbrauch'].astype(float)\n",
    "        df_day.reset_index(drop=True, inplace=True)\n",
    "        \n",
    "# Daysum Night measurements\n",
    "for filename in all_files:\n",
    "    if (id_night in filename) and (id_sum in filename):\n",
    "        night_files.append(filename)\n",
    "        df_night = pd.concat((pd.read_csv(r,\n",
    "                                        decimal=',',\n",
    "                                        header=0,\n",
    "                                        parse_dates=['date'],\n",
    "                                        converters={'date': lambda t: dt.datetime.strptime(t, '%Y-%m-%dT%H:%M:%S.%f%z').date()},\n",
    "                                        names=['date', 'zaehlerstand', '1', '2', 'verbrauch', '3', '4'],\n",
    "                                        usecols=lambda x: x in ['date', 'zaehlerstand', 'verbrauch'],\n",
    "                                        )\n",
    "                            for r in night_files))\n",
    "\n",
    "        df_night['zaehlerstand'] = df_night['zaehlerstand'].astype(float)\n",
    "        df_night['verbrauch'] = df_night['verbrauch'].astype(float)\n",
    "        df_night.reset_index(drop=True, inplace=True)\n",
    "   \n",
    "############ Clean Dataframes ############\n",
    "# Night Measurements\n",
    "df_night.drop(df_night['verbrauch'].idxmax(), inplace=True)\n",
    "df_night.drop_duplicates(subset='date', keep='first', inplace=True)\n",
    "\n",
    "# Day Measurements\n",
    "df_day.drop(df_day['verbrauch'].idxmax(), inplace=True)\n",
    "df_day.drop_duplicates(subset='date', keep='first', inplace=True)"
   ]
  },
  {
   "attachments": {},
   "cell_type": "markdown",
   "metadata": {},
   "source": [
    "## Import measurements with 15min resolution\n",
    "Nur Tagstrom implementiert"
   ]
  },
  {
   "cell_type": "code",
   "execution_count": null,
   "metadata": {},
   "outputs": [],
   "source": [
    "# Define Dataframes\n",
    "df_day_15min = []\n",
    "day_files_15min = []\n",
    "\n",
    "# 15min Resolution Day Measurements\n",
    "for filename in all_files:\n",
    "    if (id_day in filename) and (id_res in filename):\n",
    "        day_files_15min.append(filename)\n",
    "        df_day_15min = pd.concat((pd.read_csv(r,\n",
    "                                        decimal=',',\n",
    "                                        header=0,\n",
    "                                        names=['timestamp', 'zaehlerstand', '1', '2', 'verbrauch', '3', '4'],\n",
    "                                        usecols=lambda x: x in ['timestamp', 'zaehlerstand', 'verbrauch'],\n",
    "                                        )\n",
    "                            for r in day_files_15min))\n",
    "\n",
    "        df_day_15min['zaehlerstand'] = df_day_15min['zaehlerstand'].astype(float)\n",
    "        df_day_15min['verbrauch'] = df_day_15min['verbrauch'].astype(float)\n",
    "        df_day_15min.reset_index(drop=True, inplace=True)\n",
    "        df_day_15min['date'] = pd.to_datetime(df_day_15min['timestamp'].str[:10])\n",
    "        df_day_15min['hour'] = pd.to_datetime(df_day_15min['timestamp'].str[11:16])\n",
    "        \n",
    "# clean data\n",
    "df_day_15min.drop_duplicates(subset=['date', 'hour'], keep='first', inplace=True)"
   ]
  },
  {
   "cell_type": "markdown",
   "metadata": {},
   "source": [
    "## Date of last import"
   ]
  },
  {
   "cell_type": "code",
   "execution_count": null,
   "metadata": {},
   "outputs": [],
   "source": [
    "print('Enddatum Tagstrom: ')\n",
    "print(df_day['date'].max().date())\n",
    "print('Enddatum Nachtstrom: ')\n",
    "print(df_night['date'].max().date())\n",
    "print('Enddatum 15min Auflösung: ')\n",
    "print(df_day_15min['date'].max().date())"
   ]
  },
  {
   "attachments": {},
   "cell_type": "markdown",
   "metadata": {},
   "source": [
    "## <center> Plots"
   ]
  },
  {
   "attachments": {},
   "cell_type": "markdown",
   "metadata": {},
   "source": [
    "## Tagessumen"
   ]
  },
  {
   "cell_type": "code",
   "execution_count": null,
   "metadata": {},
   "outputs": [],
   "source": [
    "fig = plt.figure(figsize =([30, 15]))\n",
    "\n",
    "# Gridspec Setup\n",
    "gs = gridspec.GridSpec(2, 2)\n",
    "ax = plt.subplot(gs[0, 0])\n",
    "gs.update(wspace = 0.1, hspace = 0.3)\n",
    "\n",
    "### AX1 ###\n",
    "ax1 = plt.subplot(gs[0, :2])\n",
    "sns.barplot(data=df_day,\n",
    "            x='date',\n",
    "            y='verbrauch')\n",
    "ax1.set_ylabel('Verbrauch [kWh]', labelpad = 0, fontsize = 12)\n",
    "ax1.xaxis.set_major_locator(md.MonthLocator())\n",
    "ax1.xaxis.set_major_formatter(md.DateFormatter('%b'))\n",
    "ax1.set_title('Tagesverbrauch')\n",
    "\n",
    "### AX2 ###\n",
    "ax2 = plt.subplot(gs[1, :2])\n",
    "sns.barplot(data=df_night,\n",
    "            x='date',\n",
    "            y='verbrauch')\n",
    "ax2.set_ylabel('Verbrauch [kWh]', labelpad = 0, fontsize = 12)\n",
    "ax2.xaxis.set_major_locator(md.MonthLocator())\n",
    "ax2.xaxis.set_major_formatter(md.DateFormatter('%b'))\n",
    "ax2.set_title('Nachtstrom')\n",
    "\n",
    "### Draw Plot ###\n",
    "plt.show()"
   ]
  },
  {
   "attachments": {},
   "cell_type": "markdown",
   "metadata": {},
   "source": [
    "## 15min resolution"
   ]
  },
  {
   "cell_type": "code",
   "execution_count": null,
   "metadata": {},
   "outputs": [],
   "source": [
    "fig = plt.figure(figsize =([30, 15]))\n",
    "\n",
    "# Gridspec Setup\n",
    "gs = gridspec.GridSpec(2, 2)\n",
    "ax = plt.subplot(gs[0, 0])\n",
    "gs.update(wspace = 0.1, hspace = 0.3)\n",
    "\n",
    "### AX1 ###\n",
    "ax1 = plt.subplot(gs[0, :2])\n",
    "sns.barplot(data=df_day_15min,\n",
    "            x='date',\n",
    "            y='verbrauch')\n",
    "ax1.set_ylabel('Verbrauch [Wh]', labelpad = 0, fontsize = 12)\n",
    "ax1.xaxis.set_major_locator(md.MonthLocator())\n",
    "ax1.xaxis.set_major_formatter(md.DateFormatter('%b'))\n",
    "ax1.set_title('Tagesverbrauch')\n",
    "\n",
    "### AX2 ###\n",
    "ax2 = plt.subplot(gs[1, :2])\n",
    "sns.barplot(data=df_day_15min,\n",
    "            x='hour',\n",
    "            y='verbrauch')\n",
    "ax2.set_ylabel('Verbrauch [Wh]', labelpad = 0, fontsize = 12)\n",
    "#ax2.xaxis.set_major_locator(md.MonthLocator())\n",
    "#ax2.xaxis.set_major_formatter(md.DateFormatter('%h:%m'))\n",
    "ax2.set_title('Stundenverbrauch')\n",
    "ax2.tick_params(labelrotation=90)\n",
    "\n",
    "### Draw Plot ###\n",
    "plt.show()"
   ]
  }
 ],
 "metadata": {
  "kernelspec": {
   "display_name": "base",
   "language": "python",
   "name": "python3"
  },
  "language_info": {
   "codemirror_mode": {
    "name": "ipython",
    "version": 3
   },
   "file_extension": ".py",
   "mimetype": "text/x-python",
   "name": "python",
   "nbconvert_exporter": "python",
   "pygments_lexer": "ipython3",
   "version": "3.9.15"
  },
  "orig_nbformat": 4
 },
 "nbformat": 4,
 "nbformat_minor": 2
}
