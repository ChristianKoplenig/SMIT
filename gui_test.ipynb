{
 "cells": [
  {
   "cell_type": "code",
   "execution_count": 2,
   "metadata": {},
   "outputs": [
    {
     "name": "stderr",
     "output_type": "stream",
     "text": [
      "2023-11-13 17:33:21,898 :: DEBUG    :: [userinput:64] :: Class UiTools of the module SMIT.userinput successfully initialized.\n",
      "2023-11-13 17:33:22,107 :: WARNING  :: [rsahandling:51] :: No Rsa key pair found\n",
      "2023-11-13 17:33:22,107 :: INFO     :: [rsahandling:56] :: Public key written\n",
      "2023-11-13 17:33:22,108 :: INFO     :: [rsahandling:60] :: Private key written\n",
      "2023-11-13 17:33:22,108 :: DEBUG    :: [rsahandling:65] :: Class RsaTools of the module SMIT.rsahandling successfully initialized.\n",
      "2023-11-13 17:33:22,109 :: DEBUG    :: [filehandling:222] :: Class TomlTools of the module SMIT.filehandling successfully initialized.\n",
      "2023-11-13 17:33:22,109 :: DEBUG    :: [filehandling:59] :: Class OsInterface of the module SMIT.filehandling successfully initialized.\n",
      "2023-11-13 17:33:22,109 :: DEBUG    :: [filepersistence:45] :: Class Persistence of the module SMIT.filepersistence successfully initialized.\n",
      "2023-11-13 17:33:22,109 :: DEBUG    :: [scrapedata:58] :: Class Webscraper of the module SMIT.scrapedata successfully initialized.\n",
      "2023-11-13 17:33:22,109 :: INFO     :: [application:83] :: Application with user \"dummy user\" instantiated\n",
      "2023-11-13 17:33:22,119 :: DEBUG    :: [filehandling:147] :: Created pandas dataframe for meter: 199996\n",
      "2023-11-13 17:33:22,120 :: DEBUG    :: [filehandling:148] :: Filelist: [PosixPath('.dummy/csv_workdir/daily/DummyData_Ablesungen_Anlage_338901_Zaehlpunkt_AT0081000802000000000000000199996_Tagesübersicht.csv')]\n"
     ]
    }
   ],
   "source": [
    "from SMIT.application import Application\n",
    "user = Application(True)\n",
    "df_day = user.os_tools.create_dataframe(user.Folder['work_daysum'], user.Meter['day_meter'])\n",
    "#df_night = app.os_tools.create_dataframe(app.Folder['work_daysum'], app.Meter['night_meter'])"
   ]
  }
 ],
 "metadata": {
  "kernelspec": {
   "display_name": ".venv",
   "language": "python",
   "name": "python3"
  },
  "language_info": {
   "codemirror_mode": {
    "name": "ipython",
    "version": 3
   },
   "file_extension": ".py",
   "mimetype": "text/x-python",
   "name": "python",
   "nbconvert_exporter": "python",
   "pygments_lexer": "ipython3",
   "version": "3.11.6"
  }
 },
 "nbformat": 4,
 "nbformat_minor": 2
}
