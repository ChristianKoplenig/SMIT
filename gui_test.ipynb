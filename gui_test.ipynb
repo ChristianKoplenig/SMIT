{
 "cells": [
  {
   "cell_type": "code",
   "execution_count": 1,
   "metadata": {},
   "outputs": [
    {
     "name": "stderr",
     "output_type": "stream",
     "text": [
      "2023-11-13 18:12:52,609 :: DEBUG    :: [userinput:64] :: Class UiTools of the module SMIT.userinput successfully initialized.\n",
      "2023-11-13 18:12:52,889 :: WARNING  :: [rsahandling:51] :: No Rsa key pair found\n",
      "2023-11-13 18:12:52,894 :: INFO     :: [rsahandling:56] :: Public key written\n",
      "2023-11-13 18:12:52,895 :: INFO     :: [rsahandling:60] :: Private key written\n",
      "2023-11-13 18:12:52,896 :: DEBUG    :: [rsahandling:65] :: Class RsaTools of the module SMIT.rsahandling successfully initialized.\n",
      "2023-11-13 18:12:52,896 :: DEBUG    :: [filehandling:221] :: Class TomlTools of the module SMIT.filehandling successfully initialized.\n",
      "2023-11-13 18:12:52,896 :: DEBUG    :: [filehandling:59] :: Class OsInterface of the module SMIT.filehandling successfully initialized.\n",
      "2023-11-13 18:12:52,897 :: DEBUG    :: [filepersistence:45] :: Class Persistence of the module SMIT.filepersistence successfully initialized.\n",
      "2023-11-13 18:12:52,897 :: DEBUG    :: [scrapedata:58] :: Class Webscraper of the module SMIT.scrapedata successfully initialized.\n",
      "2023-11-13 18:12:52,897 :: INFO     :: [application:82] :: Application with user \"dummy user\" instantiated\n"
     ]
    },
    {
     "name": "stdout",
     "output_type": "stream",
     "text": [
      "True\n"
     ]
    }
   ],
   "source": [
    "from SMIT.application import Application\n",
    "user = Application(True)\n",
    "print(user.dummy)"
   ]
  }
 ],
 "metadata": {
  "kernelspec": {
   "display_name": ".venv",
   "language": "python",
   "name": "python3"
  },
  "language_info": {
   "codemirror_mode": {
    "name": "ipython",
    "version": 3
   },
   "file_extension": ".py",
   "mimetype": "text/x-python",
   "name": "python",
   "nbconvert_exporter": "python",
   "pygments_lexer": "ipython3",
   "version": "3.11.6"
  }
 },
 "nbformat": 4,
 "nbformat_minor": 2
}
