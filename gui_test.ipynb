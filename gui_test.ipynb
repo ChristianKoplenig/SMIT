{
 "cells": [
  {
   "cell_type": "code",
   "execution_count": 1,
   "metadata": {},
   "outputs": [
    {
     "ename": "AttributeError",
     "evalue": "'Application' object has no attribute 'logger'",
     "output_type": "error",
     "traceback": [
      "\u001b[0;31m---------------------------------------------------------------------------\u001b[0m",
      "\u001b[0;31mAttributeError\u001b[0m                            Traceback (most recent call last)",
      "\u001b[1;32m/data/coding/SMIT/gui_test.ipynb Cell 1\u001b[0m line \u001b[0;36m2\n\u001b[1;32m      <a href='vscode-notebook-cell:/data/coding/SMIT/gui_test.ipynb#W1sZmlsZQ%3D%3D?line=0'>1</a>\u001b[0m \u001b[39mfrom\u001b[39;00m \u001b[39mSMIT\u001b[39;00m\u001b[39m.\u001b[39;00m\u001b[39mapplication\u001b[39;00m \u001b[39mimport\u001b[39;00m Application\n\u001b[0;32m----> <a href='vscode-notebook-cell:/data/coding/SMIT/gui_test.ipynb#W1sZmlsZQ%3D%3D?line=1'>2</a>\u001b[0m user \u001b[39m=\u001b[39m Application(\u001b[39mTrue\u001b[39;49;00m)\n\u001b[1;32m      <a href='vscode-notebook-cell:/data/coding/SMIT/gui_test.ipynb#W1sZmlsZQ%3D%3D?line=2'>3</a>\u001b[0m \u001b[39m#df_day = app.os_tools.create_dataframe(app.Folder['work_daysum'], app.Meter['day_meter'])\u001b[39;00m\n\u001b[1;32m      <a href='vscode-notebook-cell:/data/coding/SMIT/gui_test.ipynb#W1sZmlsZQ%3D%3D?line=3'>4</a>\u001b[0m \u001b[39m#df_night = app.os_tools.create_dataframe(app.Folder['work_daysum'], app.Meter['night_meter'])\u001b[39;00m\n\u001b[1;32m      <a href='vscode-notebook-cell:/data/coding/SMIT/gui_test.ipynb#W1sZmlsZQ%3D%3D?line=4'>5</a>\u001b[0m \u001b[39m#df_day.tail()\u001b[39;00m\n\u001b[1;32m      <a href='vscode-notebook-cell:/data/coding/SMIT/gui_test.ipynb#W1sZmlsZQ%3D%3D?line=5'>6</a>\u001b[0m \u001b[39m#print(app.Folder['work_daysum'])\u001b[39;00m\n",
      "File \u001b[0;32m/data/coding/SMIT/src/SMIT/application.py:70\u001b[0m, in \u001b[0;36mApplication.__init__\u001b[0;34m(self, dummy)\u001b[0m\n\u001b[1;32m     67\u001b[0m     \u001b[39mself\u001b[39m\u001b[39m.\u001b[39muser_settings \u001b[39m=\u001b[39m pl\u001b[39m.\u001b[39mPath(\u001b[39m'\u001b[39m\u001b[39mconfig/user_settings.toml\u001b[39m\u001b[39m'\u001b[39m)\n\u001b[1;32m     68\u001b[0m \u001b[39melse\u001b[39;00m:\n\u001b[1;32m     69\u001b[0m     \u001b[39m# Load application with dummy configuration\u001b[39;00m\n\u001b[0;32m---> 70\u001b[0m     \u001b[39mself\u001b[39;49m\u001b[39m.\u001b[39;49m_add_modules_to_attributes()\n\u001b[1;32m     71\u001b[0m     \u001b[39mself\u001b[39m\u001b[39m.\u001b[39m_setup_dummy_user()\n\u001b[1;32m     73\u001b[0m \u001b[39mself\u001b[39m\u001b[39m.\u001b[39m_add_TOML_to_attributes(\u001b[39mself\u001b[39m\u001b[39m.\u001b[39muser_data)\n",
      "File \u001b[0;32m/data/coding/SMIT/src/SMIT/application.py:93\u001b[0m, in \u001b[0;36mApplication._add_modules_to_attributes\u001b[0;34m(self)\u001b[0m\n\u001b[1;32m     85\u001b[0m \u001b[39mdef\u001b[39;00m \u001b[39m_add_modules_to_attributes\u001b[39m(\u001b[39mself\u001b[39m) \u001b[39m-\u001b[39m\u001b[39m>\u001b[39m \u001b[39mNone\u001b[39;00m:\n\u001b[1;32m     86\u001b[0m \u001b[39m    \u001b[39m\u001b[39m\"\"\"Assign modules to application instance.\u001b[39;00m\n\u001b[1;32m     87\u001b[0m \n\u001b[1;32m     88\u001b[0m \u001b[39m    Calls function `SMIT.application.Application._load_modules()`  \u001b[39;00m\n\u001b[0;32m   (...)\u001b[0m\n\u001b[1;32m     91\u001b[0m \u001b[39m    Make modules callable via keys in modules dict.\u001b[39;00m\n\u001b[1;32m     92\u001b[0m \u001b[39m    \"\"\"\u001b[39;00m\n\u001b[0;32m---> 93\u001b[0m     \u001b[39mfor\u001b[39;00m key, value \u001b[39min\u001b[39;00m \u001b[39mself\u001b[39;49m\u001b[39m.\u001b[39;49m_load_modules()\u001b[39m.\u001b[39mitems():\n\u001b[1;32m     94\u001b[0m         \u001b[39msetattr\u001b[39m(\u001b[39mself\u001b[39m, key, value)\n",
      "File \u001b[0;32m/data/coding/SMIT/src/SMIT/application.py:156\u001b[0m, in \u001b[0;36mApplication._load_modules\u001b[0;34m(self)\u001b[0m\n\u001b[1;32m    137\u001b[0m \u001b[39mdef\u001b[39;00m \u001b[39m_load_modules\u001b[39m(\u001b[39mself\u001b[39m) \u001b[39m-\u001b[39m\u001b[39m>\u001b[39m \u001b[39mdict\u001b[39m:\n\u001b[1;32m    138\u001b[0m \u001b[39m    \u001b[39m\u001b[39m\"\"\"Create dict with all modules.\u001b[39;00m\n\u001b[1;32m    139\u001b[0m \u001b[39m    \u001b[39;00m\n\u001b[1;32m    140\u001b[0m \u001b[39m    This method exists to assure that each module\u001b[39;00m\n\u001b[0;32m   (...)\u001b[0m\n\u001b[1;32m    152\u001b[0m \u001b[39m        are intantiated modules objects.\u001b[39;00m\n\u001b[1;32m    153\u001b[0m \u001b[39m    \"\"\"\u001b[39;00m\n\u001b[1;32m    154\u001b[0m     modules \u001b[39m=\u001b[39m \u001b[39mdict\u001b[39m([\n\u001b[1;32m    155\u001b[0m         \u001b[39m#('gui', UiTools(self)),\u001b[39;00m\n\u001b[0;32m--> 156\u001b[0m         (\u001b[39m'\u001b[39m\u001b[39mrsa\u001b[39m\u001b[39m'\u001b[39m, RsaTools(\u001b[39mself\u001b[39;49m)),\n\u001b[1;32m    157\u001b[0m         (\u001b[39m'\u001b[39m\u001b[39mtoml_tools\u001b[39m\u001b[39m'\u001b[39m, TomlTools(\u001b[39mself\u001b[39m)),\n\u001b[1;32m    158\u001b[0m         (\u001b[39m'\u001b[39m\u001b[39mos_tools\u001b[39m\u001b[39m'\u001b[39m, OsInterface(\u001b[39mself\u001b[39m)),\n\u001b[1;32m    159\u001b[0m         (\u001b[39m'\u001b[39m\u001b[39mpersistence\u001b[39m\u001b[39m'\u001b[39m, Persistence(\u001b[39mself\u001b[39m)),\n\u001b[1;32m    160\u001b[0m         (\u001b[39m'\u001b[39m\u001b[39mscrape\u001b[39m\u001b[39m'\u001b[39m, Webscraper(\u001b[39mself\u001b[39m))\n\u001b[1;32m    161\u001b[0m     ])\n\u001b[1;32m    162\u001b[0m     \u001b[39mreturn\u001b[39;00m modules\n",
      "File \u001b[0;32m/data/coding/SMIT/src/SMIT/rsahandling.py:42\u001b[0m, in \u001b[0;36mRsaTools.__init__\u001b[0;34m(self, app)\u001b[0m\n\u001b[1;32m     39\u001b[0m \u001b[39mdef\u001b[39;00m \u001b[39m__init__\u001b[39m(\u001b[39mself\u001b[39m, app: \u001b[39m'\u001b[39m\u001b[39mApplication\u001b[39m\u001b[39m'\u001b[39m) \u001b[39m-\u001b[39m\u001b[39m>\u001b[39m \u001b[39mNone\u001b[39;00m:\n\u001b[1;32m     41\u001b[0m     \u001b[39mself\u001b[39m\u001b[39m.\u001b[39muser \u001b[39m=\u001b[39m app\n\u001b[0;32m---> 42\u001b[0m     \u001b[39mself\u001b[39m\u001b[39m.\u001b[39mlogger \u001b[39m=\u001b[39m app\u001b[39m.\u001b[39;49mlogger\n\u001b[1;32m     43\u001b[0m     \u001b[39mself\u001b[39m\u001b[39m.\u001b[39mpub_path \u001b[39m=\u001b[39m pl\u001b[39m.\u001b[39mPath(\u001b[39mself\u001b[39m\u001b[39m.\u001b[39muser\u001b[39m.\u001b[39mPath[\u001b[39m'\u001b[39m\u001b[39mpublic_key\u001b[39m\u001b[39m'\u001b[39m])\n\u001b[1;32m     44\u001b[0m     \u001b[39mself\u001b[39m\u001b[39m.\u001b[39mpriv_path \u001b[39m=\u001b[39m pl\u001b[39m.\u001b[39mPath(\u001b[39mself\u001b[39m\u001b[39m.\u001b[39muser\u001b[39m.\u001b[39mPath[\u001b[39m'\u001b[39m\u001b[39mprivate_key\u001b[39m\u001b[39m'\u001b[39m])\n",
      "\u001b[0;31mAttributeError\u001b[0m: 'Application' object has no attribute 'logger'"
     ]
    }
   ],
   "source": [
    "from SMIT.application import Application\n",
    "user = Application(True)\n",
    "#df_day = app.os_tools.create_dataframe(app.Folder['work_daysum'], app.Meter['day_meter'])\n",
    "#df_night = app.os_tools.create_dataframe(app.Folder['work_daysum'], app.Meter['night_meter'])\n",
    "#df_day.tail()\n",
    "#print(app.Folder['work_daysum'])"
   ]
  }
 ],
 "metadata": {
  "kernelspec": {
   "display_name": ".venv",
   "language": "python",
   "name": "python3"
  },
  "language_info": {
   "codemirror_mode": {
    "name": "ipython",
    "version": 3
   },
   "file_extension": ".py",
   "mimetype": "text/x-python",
   "name": "python",
   "nbconvert_exporter": "python",
   "pygments_lexer": "ipython3",
   "version": "3.11.6"
  }
 },
 "nbformat": 4,
 "nbformat_minor": 2
}
